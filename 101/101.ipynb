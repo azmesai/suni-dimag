{
 "cells": [
  {
   "cell_type": "markdown",
   "metadata": {},
   "source": [
    "# 101 - İlk yapay sinir ağımız, Dense layer\n",
    "\n",
    "Bu örnekte ilk yapay sinir ağımızı gürültülü veri ile sinüs fonksiyonunu taklit etmek üzere eğiteceğiz.\n"
   ]
  },
  {
   "cell_type": "code",
   "execution_count": 1,
   "metadata": {},
   "outputs": [
    {
     "name": "stderr",
     "output_type": "stream",
     "text": [
      "Using TensorFlow backend.\n"
     ]
    }
   ],
   "source": [
    "%matplotlib inline\n",
    "from keras.layers import Dense\n",
    "from keras.models import Sequential\n",
    "import random\n",
    "import matplotlib.pyplot as plt\n",
    "import math"
   ]
  },
  {
   "cell_type": "markdown",
   "metadata": {},
   "source": [
    "## Training set (Öğrenme kümesi)'nin oluşturulması\n",
    "\n",
    "İlk olarak ağımızı eğitmek için kullanacağımız training set'i oluşturuyoruz. Ağın sinüs fonksiyonunu öğrenmesini istiyoruz, bu yüzden X radyan olarak rastgele açı değerleri, y ilgili açının sinüsü olacak şekilde 600 tane örnek oluşturuyoruz. \n",
    "\n",
    "Gerçek dünyada gürültü içermeyen çok az veri vardır. Yapay sinir ağlarının gürültülü veriyle bile genelleme yapabilme gücünü  gösterebilmek için y değerlerini rastgele bir miktar kaydırıyorum. Gürültünün miktarıyla noiserate değişkenini değiştirerek oynayabilirsiniz."
   ]
  },
  {
   "cell_type": "code",
   "execution_count": 2,
   "metadata": {},
   "outputs": [
    {
     "name": "stderr",
     "output_type": "stream",
     "text": [
      "/home/jimqode/tensorflow/local/lib/python2.7/site-packages/matplotlib/axes/_axes.py:545: UserWarning: No labelled objects found. Use label='...' kwarg on individual plots.\n",
      "  warnings.warn(\"No labelled objects found. \"\n"
     ]
    },
    {
     "data": {
      "image/png": "[encoded data removed]",
      "text/plain": [
       "<matplotlib.figure.Figure at 0x7f50f0a01050>"
      ]
     },
     "metadata": {},
     "output_type": "display_data"
    }
   ],
   "source": [
    "noiserate = 0.2\n",
    "X = []\n",
    "y = []\n",
    "for i in range(0,600):\n",
    "    angle=random.uniform(-math.pi,math.pi)\n",
    "    X.append(angle)\n",
    "    y.append(math.sin(angle)+random.uniform(-noiserate,noiserate))\n",
    "\n",
    "plt.scatter(X,y,s=0.1)\n",
    "plt.xlabel('x (Radyan)')\n",
    "plt.ylabel('sin(x)')\n",
    "plt.legend()\n",
    "plt.show()"
   ]
  },
  {
   "cell_type": "markdown",
   "metadata": {},
   "source": [
    "## Modelin oluşturulması\n",
    "\n",
    "Modelimiz iki katmandan oluşuyor. İlk katmanda 80 adet nöron var ve bunların her birinin girişi verimizin girdisine *(X)*, yani açı değişkenine bağlı. Ayrıca bu katmandaki nöronların herbirinin çıkışı *RELU* adı verilen bir aktivasyon fonksiyonundan geçiyor ama şimdilik bunu umursayın. Bu konuya daha sonra değineceğim. İkinci katmanda ise tek bir nöron var. İlk katmandaki tüm nöronların çıkışları, bu tek nörona bağlanıyor. Bu tek nöronun çıkışı da bizim sinüs değerimizi *(y)* verecek.\n",
    "\n",
    "Modelimizi eğitebilmek için bir *loss* fonksiyonu seçmemiz gerekli. Loss fonksiyonu çıkışımın, istediğimiz değere ne kadar uzak olduğunu gösteren bir fonksiyon. Aslında öğrenme işleminin yaptığı şey bu değeri minimize etmeye çalışmak. Ben burada *Mean Square Error* (Karesel ortalama hata) fonksiyonunu seçtim.\n",
    "\n",
    "Diğer ihtiyacımız olan şey ise bir *optimizer*, yani *loss*'un nöronların birbirleriyla bağlantı ağırlıklarını güncellemek için nasıl dağıtılacağını belirleyen algoritmamız. Bunun için de en basit *optimizer* algoritmalarından biri olan *Stochastic Gradient Descent* algoritmasını seçtim."
   ]
  },
  {
   "cell_type": "code",
   "execution_count": 3,
   "metadata": {},
   "outputs": [],
   "source": [
    "model = Sequential()\n",
    "model.add(Dense(80, input_shape=(1,), activation='relu'))\n",
    "model.add(Dense(1))\n",
    "model.compile(loss='mse', optimizer='sgd')\n"
   ]
  },
  {
   "cell_type": "markdown",
   "metadata": {},
   "source": [
    "## Eğitim şart\n",
    "\n",
    "Artık `model.fit()` fonksiyonunu çağırarak modelimizi eğitebiliriz. Modelimizi ürettiğimiz *training set*'ten X ve y değerleriyle çağırıyoruz ve eğitimin 50 *epoch* sürmesini istediğimizi belirtiyor. Training setteki her değerin üzerinden bir kere geçilmesine 1 *epoch* adı veriliyor."
   ]
  },
  {
   "cell_type": "code",
   "execution_count": 4,
   "metadata": {
    "scrolled": true
   },
   "outputs": [
    {
     "name": "stdout",
     "output_type": "stream",
     "text": [
      "Epoch 1/50\n",
      "600/600 [==============================] - 0s - loss: 0.3560     \n",
      "Epoch 2/50\n",
      "600/600 [==============================] - 0s - loss: 0.1972     \n",
      "Epoch 3/50\n",
      "600/600 [==============================] - 0s - loss: 0.1764     \n",
      "Epoch 4/50\n",
      "600/600 [==============================] - 0s - loss: 0.1694     \n",
      "Epoch 5/50\n",
      "600/600 [==============================] - 0s - loss: 0.1628     \n",
      "Epoch 6/50\n",
      "600/600 [==============================] - 0s - loss: 0.1580     \n",
      "Epoch 7/50\n",
      "600/600 [==============================] - 0s - loss: 0.1530     \n",
      "Epoch 8/50\n",
      "600/600 [==============================] - 0s - loss: 0.1479     \n",
      "Epoch 9/50\n",
      "600/600 [==============================] - 0s - loss: 0.1436     \n",
      "Epoch 10/50\n",
      "600/600 [==============================] - 0s - loss: 0.1390     \n",
      "Epoch 11/50\n",
      "600/600 [==============================] - 0s - loss: 0.1354     \n",
      "Epoch 12/50\n",
      "600/600 [==============================] - 0s - loss: 0.1322     \n",
      "Epoch 13/50\n",
      "600/600 [==============================] - 0s - loss: 0.1280     \n",
      "Epoch 14/50\n",
      "600/600 [==============================] - 0s - loss: 0.1247     \n",
      "Epoch 15/50\n",
      "600/600 [==============================] - 0s - loss: 0.1215     \n",
      "Epoch 16/50\n",
      "600/600 [==============================] - 0s - loss: 0.1186     \n",
      "Epoch 17/50\n",
      "600/600 [==============================] - 0s - loss: 0.1156     \n",
      "Epoch 18/50\n",
      "600/600 [==============================] - 0s - loss: 0.1120     \n",
      "Epoch 19/50\n",
      "600/600 [==============================] - 0s - loss: 0.1095     \n",
      "Epoch 20/50\n",
      "600/600 [==============================] - 0s - loss: 0.1069     \n",
      "Epoch 21/50\n",
      "600/600 [==============================] - 0s - loss: 0.1042     \n",
      "Epoch 22/50\n",
      "600/600 [==============================] - 0s - loss: 0.1017     \n",
      "Epoch 23/50\n",
      "600/600 [==============================] - 0s - loss: 0.0993     \n",
      "Epoch 24/50\n",
      "600/600 [==============================] - 0s - loss: 0.0974     \n",
      "Epoch 25/50\n",
      "600/600 [==============================] - 0s - loss: 0.0945     \n",
      "Epoch 26/50\n",
      "600/600 [==============================] - 0s - loss: 0.0924     \n",
      "Epoch 27/50\n",
      "600/600 [==============================] - 0s - loss: 0.0903     \n",
      "Epoch 28/50\n",
      "600/600 [==============================] - 0s - loss: 0.0882     \n",
      "Epoch 29/50\n",
      "600/600 [==============================] - 0s - loss: 0.0860     \n",
      "Epoch 30/50\n",
      "600/600 [==============================] - 0s - loss: 0.0842     \n",
      "Epoch 31/50\n",
      "600/600 [==============================] - 0s - loss: 0.0820     \n",
      "Epoch 32/50\n",
      "600/600 [==============================] - 0s - loss: 0.0807     \n",
      "Epoch 33/50\n",
      "600/600 [==============================] - 0s - loss: 0.0784     \n",
      "Epoch 34/50\n",
      "600/600 [==============================] - 0s - loss: 0.0768     \n",
      "Epoch 35/50\n",
      "600/600 [==============================] - 0s - loss: 0.0752     \n",
      "Epoch 36/50\n",
      "600/600 [==============================] - 0s - loss: 0.0732     \n",
      "Epoch 37/50\n",
      "600/600 [==============================] - 0s - loss: 0.0718     \n",
      "Epoch 38/50\n",
      "600/600 [==============================] - 0s - loss: 0.0703     \n",
      "Epoch 39/50\n",
      "600/600 [==============================] - 0s - loss: 0.0688     \n",
      "Epoch 40/50\n",
      "600/600 [==============================] - 0s - loss: 0.0675     \n",
      "Epoch 41/50\n",
      "600/600 [==============================] - 0s - loss: 0.0658     \n",
      "Epoch 42/50\n",
      "600/600 [==============================] - 0s - loss: 0.0645     \n",
      "Epoch 43/50\n",
      "600/600 [==============================] - 0s - loss: 0.0630     \n",
      "Epoch 44/50\n",
      "600/600 [==============================] - 0s - loss: 0.0619     \n",
      "Epoch 45/50\n",
      "600/600 [==============================] - 0s - loss: 0.0608     \n",
      "Epoch 46/50\n",
      "600/600 [==============================] - 0s - loss: 0.0596     \n",
      "Epoch 47/50\n",
      "600/600 [==============================] - 0s - loss: 0.0584     \n",
      "Epoch 48/50\n",
      "600/600 [==============================] - 0s - loss: 0.0569     \n",
      "Epoch 49/50\n",
      "600/600 [==============================] - 0s - loss: 0.0561     \n",
      "Epoch 50/50\n",
      "600/600 [==============================] - 0s - loss: 0.0548     \n"
     ]
    },
    {
     "data": {
      "text/plain": [
       "<keras.callbacks.History at 0x7f50ee68af10>"
      ]
     },
     "execution_count": 4,
     "metadata": {},
     "output_type": "execute_result"
    }
   ],
   "source": [
    "model.fit(X, y, epochs=50)"
   ]
  },
  {
   "cell_type": "markdown",
   "metadata": {},
   "source": [
    "*Loss* değerinin gitgide azaldığını görebiliyoruz. Demek ki modelimiz öğreniyor. Ne öğrendiğini görselleştirmeye çalışalım.\n",
    "\n",
    "Öncelikle sıralı ve gürültüsüz bir test kümesi oluşturalım. "
   ]
  },
  {
   "cell_type": "code",
   "execution_count": 5,
   "metadata": {},
   "outputs": [],
   "source": [
    "X_test = []\n",
    "y_test = []\n",
    "for i in range(-1800,1800):\n",
    "    angle = math.radians(i/10)\n",
    "    X_test.append(angle)\n",
    "    y_test.append(math.sin(angle))\n",
    "\n"
   ]
  },
  {
   "cell_type": "markdown",
   "metadata": {},
   "source": [
    "Şimdi de ağımız çıktısı ve beklenilen çıktıyı bir grafik halinde çizelim"
   ]
  },
  {
   "cell_type": "code",
   "execution_count": 6,
   "metadata": {},
   "outputs": [
    {
     "data": {
      "image/png": "[encoded data removed]",
      "text/plain": [
       "<matplotlib.figure.Figure at 0x7f50ee861110>"
      ]
     },
     "metadata": {},
     "output_type": "display_data"
    }
   ],
   "source": [
    "def testmodel(X,y):\n",
    "    res = model.predict(X, batch_size=32)\n",
    "\n",
    "    plt.plot(X,y, label='sin')\n",
    "    plt.plot(X,res, label='sonuc')\n",
    "    plt.xlabel('x (Radyan)')\n",
    "    plt.ylabel('sin(x)')\n",
    "    plt.legend()\n",
    "    plt.show()\n",
    "    \n",
    "testmodel(X_test,y_test)"
   ]
  },
  {
   "cell_type": "markdown",
   "metadata": {},
   "source": [
    "Görüldüğü gibi modelimiz birşeyler öğrenmeye başlamış. Biraz daha eğitime devam edelim. Yeniden model.compile'ı çağırmadığımız sürece eğitime kaldığımız yerden devam edebiliriz."
   ]
  },
  {
   "cell_type": "code",
   "execution_count": 7,
   "metadata": {},
   "outputs": [
    {
     "name": "stdout",
     "output_type": "stream",
     "text": [
      "Epoch 1/50\n",
      "600/600 [==============================] - 0s - loss: 0.0537     \n",
      "Epoch 2/50\n",
      "600/600 [==============================] - 0s - loss: 0.0525     \n",
      "Epoch 3/50\n",
      "600/600 [==============================] - 0s - loss: 0.0517     \n",
      "Epoch 4/50\n",
      "600/600 [==============================] - 0s - loss: 0.0507     \n",
      "Epoch 5/50\n",
      "600/600 [==============================] - 0s - loss: 0.0499     \n",
      "Epoch 6/50\n",
      "600/600 [==============================] - 0s - loss: 0.0489     \n",
      "Epoch 7/50\n",
      "600/600 [==============================] - 0s - loss: 0.0482     \n",
      "Epoch 8/50\n",
      "600/600 [==============================] - 0s - loss: 0.0473     \n",
      "Epoch 9/50\n",
      "600/600 [==============================] - 0s - loss: 0.0464     \n",
      "Epoch 10/50\n",
      "600/600 [==============================] - 0s - loss: 0.0458     \n",
      "Epoch 11/50\n",
      "600/600 [==============================] - 0s - loss: 0.0446     \n",
      "Epoch 12/50\n",
      "600/600 [==============================] - 0s - loss: 0.0439     \n",
      "Epoch 13/50\n",
      "600/600 [==============================] - 0s - loss: 0.0431     \n",
      "Epoch 14/50\n",
      "600/600 [==============================] - 0s - loss: 0.0427     \n",
      "Epoch 15/50\n",
      "600/600 [==============================] - 0s - loss: 0.0418     \n",
      "Epoch 16/50\n",
      "600/600 [==============================] - 0s - loss: 0.0413     \n",
      "Epoch 17/50\n",
      "600/600 [==============================] - 0s - loss: 0.0404     \n",
      "Epoch 18/50\n",
      "600/600 [==============================] - 0s - loss: 0.0401     \n",
      "Epoch 19/50\n",
      "600/600 [==============================] - 0s - loss: 0.0394     \n",
      "Epoch 20/50\n",
      "600/600 [==============================] - 0s - loss: 0.0387     \n",
      "Epoch 21/50\n",
      "600/600 [==============================] - 0s - loss: 0.0380     \n",
      "Epoch 22/50\n",
      "600/600 [==============================] - 0s - loss: 0.0375     \n",
      "Epoch 23/50\n",
      "600/600 [==============================] - 0s - loss: 0.0371     \n",
      "Epoch 24/50\n",
      "600/600 [==============================] - 0s - loss: 0.0365     \n",
      "Epoch 25/50\n",
      "600/600 [==============================] - 0s - loss: 0.0360     \n",
      "Epoch 26/50\n",
      "600/600 [==============================] - 0s - loss: 0.0355     \n",
      "Epoch 27/50\n",
      "600/600 [==============================] - 0s - loss: 0.0349     \n",
      "Epoch 28/50\n",
      "600/600 [==============================] - 0s - loss: 0.0346     \n",
      "Epoch 29/50\n",
      "600/600 [==============================] - 0s - loss: 0.0341     \n",
      "Epoch 30/50\n",
      "600/600 [==============================] - 0s - loss: 0.0336     \n",
      "Epoch 31/50\n",
      "600/600 [==============================] - 0s - loss: 0.0332     \n",
      "Epoch 32/50\n",
      "600/600 [==============================] - 0s - loss: 0.0327     \n",
      "Epoch 33/50\n",
      "600/600 [==============================] - 0s - loss: 0.0322     \n",
      "Epoch 34/50\n",
      "600/600 [==============================] - 0s - loss: 0.0322     \n",
      "Epoch 35/50\n",
      "600/600 [==============================] - 0s - loss: 0.0317     \n",
      "Epoch 36/50\n",
      "600/600 [==============================] - 0s - loss: 0.0312     \n",
      "Epoch 37/50\n",
      "600/600 [==============================] - 0s - loss: 0.0309     \n",
      "Epoch 38/50\n",
      "600/600 [==============================] - 0s - loss: 0.0302     \n",
      "Epoch 39/50\n",
      "600/600 [==============================] - 0s - loss: 0.0302     \n",
      "Epoch 40/50\n",
      "600/600 [==============================] - 0s - loss: 0.0297     \n",
      "Epoch 41/50\n",
      "600/600 [==============================] - 0s - loss: 0.0294     \n",
      "Epoch 42/50\n",
      "600/600 [==============================] - 0s - loss: 0.0290     \n",
      "Epoch 43/50\n",
      "600/600 [==============================] - 0s - loss: 0.0288     \n",
      "Epoch 44/50\n",
      "600/600 [==============================] - 0s - loss: 0.0284     \n",
      "Epoch 45/50\n",
      "600/600 [==============================] - 0s - loss: 0.0282     \n",
      "Epoch 46/50\n",
      "600/600 [==============================] - 0s - loss: 0.0279     \n",
      "Epoch 47/50\n",
      "600/600 [==============================] - 0s - loss: 0.0276     \n",
      "Epoch 48/50\n",
      "600/600 [==============================] - 0s - loss: 0.0274     \n",
      "Epoch 49/50\n",
      "600/600 [==============================] - 0s - loss: 0.0271     \n",
      "Epoch 50/50\n",
      "600/600 [==============================] - 0s - loss: 0.0268     \n"
     ]
    },
    {
     "data": {
      "image/png": "[encoded data removed]",
      "text/plain": [
       "<matplotlib.figure.Figure at 0x7f50ee876490>"
      ]
     },
     "metadata": {},
     "output_type": "display_data"
    }
   ],
   "source": [
    "model.fit(X, y, epochs=50, verbose=0)\n",
    "testmodel(X_test,y_test)"
   ]
  },
  {
   "cell_type": "markdown",
   "metadata": {},
   "source": [
    "Gitgide sinus fonksiyonunu yaklaşıyoruz. bu kez bir 500 *epoch* daha dönelim ve sonucu görelim."
   ]
  },
  {
   "cell_type": "code",
   "execution_count": 8,
   "metadata": {},
   "outputs": [
    {
     "data": {
      "image/png": "[encoded data removed]",
      "text/plain": [
       "<matplotlib.figure.Figure at 0x7f50ee64d950>"
      ]
     },
     "metadata": {},
     "output_type": "display_data"
    }
   ],
   "source": [
    "model.fit(X, y, epochs=500, verbose=0)\n",
    "testmodel(X_test,y_test)"
   ]
  },
  {
   "cell_type": "markdown",
   "metadata": {},
   "source": [
    "Hiç fena değil lan bence. \n",
    "\n",
    "## Ödevler\n",
    "\n",
    "- *Training set*'teki gürültü miktarını arttırmak veya azaltmak ağın performansını nasıl değiştiriyor?\n",
    "- Ağ'ın ilk katmanındaki nöron sayısını arttırmak veya azaltmak ağın performansını nasıl değiştiriyor?\n",
    "- Bu basit ağ modelini farklı tek giriş, tek çıkışa sahip fonksiyonlarla veya verilerle eğitmeyi deneyin.\n"
   ]
  }
 ],
 "metadata": {
  "kernelspec": {
   "display_name": "Python 2",
   "language": "python",
   "name": "python2"
  },
  "language_info": {
   "codemirror_mode": {
    "name": "ipython",
    "version": 2
   },
   "file_extension": ".py",
   "mimetype": "text/x-python",
   "name": "python",
   "nbconvert_exporter": "python",
   "pygments_lexer": "ipython2",
   "version": "2.7.12"
  }
 },
 "nbformat": 4,
 "nbformat_minor": 2
}
